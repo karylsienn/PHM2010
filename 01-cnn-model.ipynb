{
 "cells": [
  {
   "cell_type": "code",
   "execution_count": 128,
   "metadata": {},
   "outputs": [],
   "source": [
    "import pandas as pd\n",
    "import numpy as np\n",
    "import tensorflow as tf\n",
    "from tensorflow.keras import layers\n",
    "import tensorflow_transform as tft\n",
    "import matplotlib.pyplot as plt\n",
    "import matplotlib.colors as cls\n",
    "import os\n",
    "import pyts.image as pyti\n",
    "import pyts.approximation as pyta\n",
    "import re\n",
    "import json\n",
    "import seaborn as sn\n",
    "from IPython.display import display\n"
   ]
  },
  {
   "cell_type": "markdown",
   "metadata": {},
   "source": [
    "First let's define the model that we will use for the prediction. \n",
    "\n",
    "The model used in the paper is a slight variation of the standard CNN model from TensorFlow, which was used to classify images from Cifar-10 dataset.\n",
    "\n",
    "In our case it will predict the wear class of the cutter from the 4 possibilities: \"Break-in\", \"Steady\", \"Severe\" and \"Failure\".\n",
    "\n",
    "Our inputs are 3-layer RGB images, transformed via Gramian Angular Summation Field and smoothed out with PAA such that the shape of the input image is 256x256. \n",
    "\n"
   ]
  },
  {
   "cell_type": "code",
   "execution_count": 31,
   "metadata": {},
   "outputs": [
    {
     "name": "stdout",
     "output_type": "stream",
     "text": [
      "Model: \"sequential\"\n",
      "_________________________________________________________________\n",
      " Layer (type)                Output Shape              Param #   \n",
      "=================================================================\n",
      " rescaling (Rescaling)       (None, 512, 512, 3)       0         \n",
      "                                                                 \n",
      " conv2d (Conv2D)             (None, 127, 127, 64)      12352     \n",
      "                                                                 \n",
      " max_pooling2d (MaxPooling2D  (None, 42, 42, 64)       0         \n",
      " )                                                               \n",
      "                                                                 \n",
      " conv2d_1 (Conv2D)           (None, 9, 9, 64)          262208    \n",
      "                                                                 \n",
      " max_pooling2d_1 (MaxPooling  (None, 4, 4, 64)         0         \n",
      " 2D)                                                             \n",
      "                                                                 \n",
      " flatten (Flatten)           (None, 1024)              0         \n",
      "                                                                 \n",
      " dense (Dense)               (None, 192)               196800    \n",
      "                                                                 \n",
      " dense_1 (Dense)             (None, 4)                 772       \n",
      "                                                                 \n",
      "=================================================================\n",
      "Total params: 472,132\n",
      "Trainable params: 472,132\n",
      "Non-trainable params: 0\n",
      "_________________________________________________________________\n"
     ]
    }
   ],
   "source": [
    "input_shape = (512, 512, 3) # 3-channel 512x512 images\n",
    "\n",
    "model = tf.keras.Sequential([\n",
    "    layers.Rescaling(1./255, input_shape=input_shape),\n",
    "    layers.Conv2D(64, (8, 8), strides=4, activation='relu'),\n",
    "    layers.MaxPooling2D((3, 3)),\n",
    "    layers.Conv2D(64, (8, 8), strides=4, activation='relu'),\n",
    "    layers.MaxPooling2D((2, 2)),\n",
    "    layers.Flatten(),\n",
    "    layers.Dense(192),\n",
    "    layers.Dense(4, activation='softmax')\n",
    "])\n",
    "\n",
    "model.summary()"
   ]
  },
  {
   "cell_type": "markdown",
   "metadata": {},
   "source": [
    "Having the model we can create a pre-processing function which will take the input and turn it into images. \n",
    "\n",
    "In fact we can copy function `get_gasf` from previous notebook and apply few changes to it, and voila.\n"
   ]
  },
  {
   "cell_type": "code",
   "execution_count": 32,
   "metadata": {},
   "outputs": [],
   "source": [
    "CSV_DIR='../../Datasets/PHM2010Challenge/c1/c1/'\n",
    "IMAGE_DIR=\"Images/\" \n",
    "TEST_DIR = \"Test_images\"\n",
    "LABELS=['Break_in', 'Steady_state', 'Severe', 'Failure']\n",
    "\n",
    "def rescale(x, low=0, high=1):\n",
    "    return (high - low) * (x - np.min(x)) / (np.max(x) - np.min(x)) + low\n",
    "\n",
    "def filename_to_class(filename):\n",
    "    # Create the label\n",
    "    file_string = os.path.basename(filename)\n",
    "    (_, _, cut_event, _) = re.split(r\"_|\\.\", file_string)\n",
    "    cut_event = int(cut_event)\n",
    "    if cut_event < 50:\n",
    "        label = LABELS[0]\n",
    "    elif cut_event < 175:\n",
    "        label = LABELS[1]\n",
    "    elif cut_event < 250:\n",
    "        label = LABELS[2]\n",
    "    else:\n",
    "        label = LABELS[3]\n",
    "    return label\n",
    "\n",
    "def get_gasf(cutter_sample):\n",
    "    # Casting the time-domain data to RGB layers --- assume only appropriate columns are included\n",
    "    cutter_acos = rescale(cutter_sample, low=-1, high=1)\n",
    "    cutter_acos = np.arccos(cutter_acos)\n",
    "    cutter_acos = np.asarray(cutter_acos).transpose()\n",
    "    paa = pyta.PiecewiseAggregateApproximation(window_size=4)\n",
    "    fcutter_paa = paa.transform(cutter_acos) # Piecewise Aggregate Approximation applied to the time-domain data\n",
    "    nelem = fcutter_paa.shape[1]\n",
    "    gasf = pyti.GramianAngularField(image_size=nelem, method='summation') # Grammar Angular Summation Field\n",
    "    fcutter_gasf = gasf.transform(fcutter_paa)\n",
    "    image = np.zeros((nelem, nelem, 3))\n",
    "    for i in range(3):\n",
    "        image[:,:,i] = fcutter_gasf[i, :, :]\n",
    "    image = rescale(image, low=0, high=1)\n",
    "    return image\n",
    "\n",
    "def plot_gasf_contour(gasf_data): \n",
    "    if len(gasf_data.shape) == 3:\n",
    "        (_, M, N) = gasf_data.shape\n",
    "        gasf_data = gasf_data.reshape((M, N))\n",
    "    else:\n",
    "        assert(len(gasf_data.shape) == 2 and gasf_data.shape[0]==gasf_data.shape[1])\n",
    "    # Make a contour plot\n",
    "    fig, ax = plt.subplots()\n",
    "    im = ax.contourf(gasf_data,\n",
    "                cmap='rainbow_r',\n",
    "                levels=80,\n",
    "                alpha=0.8,\n",
    "                vmin=0, vmax=1,\n",
    "                origin='upper')\n",
    "    fig.colorbar(im)\n",
    "    plt.show()\n",
    "\n",
    "def dataset_slices(filename, num_slices=3):\n",
    "    cutter_sample = pd.read_csv(filename, header=None,\n",
    "                    names=['Fx', 'Fy', 'Fz', 'Vx', 'Vy', 'Vz', 'aerms'],\n",
    "                    usecols=['Fx', 'Fy', 'Fz'])\n",
    "    nrow, ncol = cutter_sample.shape\n",
    "    nelem = 2048\n",
    "    start_idx = np.random.choice(nrow-nelem, num_slices)\n",
    "    cutter_array = np.asarray(cutter_sample)\n",
    "    dataset_sliced = np.zeros((num_slices, nelem, ncol))\n",
    "    for i, _idx in enumerate(start_idx):\n",
    "        dataset_sliced[i] = cutter_array[_idx:(_idx+nelem)]\n",
    "    return start_idx, dataset_sliced\n",
    "\n",
    "def populate_image_files(filename, num_files=3, image_dir=IMAGE_DIR):\n",
    "    # From given file `filename` create `num_files` GASF images with image and label\n",
    "    basename = re.split( r\"\\.\", os.path.basename(filename))[0]\n",
    "    start_idx, data_slices = dataset_slices(filename, num_slices=num_files)\n",
    "    label = filename_to_class(filename)\n",
    "\n",
    "    # Create the appropriate folder if non-existent\n",
    "    class_dir = os.path.join(image_dir, label)\n",
    "    if not os.path.exists(class_dir):\n",
    "        os.mkdir(class_dir)\n",
    "    \n",
    "    for i in range(num_files):\n",
    "        gasf_image = get_gasf(data_slices[i])\n",
    "        output_filename = os.path.join(class_dir, \"%s-%s-%.3d.jpeg\" % (label, basename, i))\n",
    "        tf.keras.utils.save_img(output_filename, gasf_image)\n",
    "    return start_idx\n",
    "\n",
    "# A wrap function which will populate only a portion of the images from a given folder.\n",
    "# And return the indexes dictionary\n",
    "def populate_images(input_dir, output_dir, num_slices=3, proportion=1.0):\n",
    "    assert proportion <= 1 and proportion > 0, \"`proportion` needs to be between 0 and 1.\"\n",
    "    filenames = os.listdir(input_dir)\n",
    "    proportion_files = int(proportion * len(filenames)) # Compute the number of files\n",
    "    assert proportion_files > 0, f\"Specify proportion such that: `proportion * {len(filenames)}` > 0.\" \n",
    "    \n",
    "    if proportion < 1.0:\n",
    "        selected_filenames = [filenames[idx] for idx in np.random.choice(len(filenames), proportion_files, replace=False)] # Get only the proportion of the filenames.\n",
    "    else:\n",
    "        selected_filenames = filenames\n",
    "    \n",
    "    k = len(selected_filenames) // 4 # Stupid but will do for now\n",
    "    k = k if k > 0 else 2\n",
    "    file_indexes_dict = {}\n",
    "    for i, filename in enumerate(selected_filenames):\n",
    "        if i % k == 0:\n",
    "            print(\"Saving image: %s\" % filename)\n",
    "            print(\"------------ %d/%d\" % (i, len(selected_filenames)))\n",
    "        idx = populate_image_files(os.path.join(input_dir, filename),\n",
    "                            num_files=num_slices, image_dir=output_dir)\n",
    "        file_indexes_dict[filename] = idx\n",
    "        \n",
    "    print(\"Finished.\")\n",
    "    return file_indexes_dict\n"
   ]
  },
  {
   "cell_type": "markdown",
   "metadata": {},
   "source": [
    "Even though it would be probably better to load directly the CSV files and preprocess them in the memory (not to create additional files on the disk), for simplicity we will create additional folder with the GASF images as RGB images, which can then be easily loaded to TensorFlow.\n",
    "\n",
    "From each file we will take 3 continuous samples of size 2048 from different parts of the file."
   ]
  },
  {
   "cell_type": "code",
   "execution_count": 31,
   "metadata": {},
   "outputs": [
    {
     "name": "stdout",
     "output_type": "stream",
     "text": [
      "Saving image: c_1_117.csv\n",
      "------------ 0/315\n",
      "Saving image: c_1_065.csv\n",
      "------------ 50/315\n",
      "Saving image: c_1_215.csv\n",
      "------------ 100/315\n",
      "Saving image: c_1_223.csv\n",
      "------------ 150/315\n",
      "Saving image: c_1_146.csv\n",
      "------------ 200/315\n",
      "Saving image: c_1_294.csv\n",
      "------------ 250/315\n",
      "Saving image: c_1_047.csv\n",
      "------------ 300/315\n",
      "Finished.\n"
     ]
    }
   ],
   "source": [
    "filenames = os.listdir(CSV_DIR)\n",
    "num_slices = 3\n",
    "\n",
    "file_indexes_dict = {}\n",
    "for i, filename in enumerate(filenames):\n",
    "    if i % 50 == 0:\n",
    "        print(\"Saving image: %s\" % filename)\n",
    "        print(\"------------ %d/%d\" % (i, len(filenames)))\n",
    "    \n",
    "    idx = populate_image_files(os.path.join(CSV_DIR, filename),\n",
    "                        num_files=num_slices, image_dir=IMAGE_DIR)\n",
    "    file_indexes_dict[filename] = idx\n",
    "\n",
    "print(\"Finished.\")\n"
   ]
  },
  {
   "cell_type": "markdown",
   "metadata": {},
   "source": [
    "We will also save the `file_indexes_dict` to be able to get back to the indices in the original files. Since the numpy types are not json-serializable we will transform them to lists with Python types."
   ]
  },
  {
   "cell_type": "code",
   "execution_count": 32,
   "metadata": {},
   "outputs": [],
   "source": [
    "file_indexes_dict_list = {k: [int(x) for x in list(v)] for k, v in file_indexes_dict.items()}\n",
    "with open(\"Images.json\", \"w\") as json_file:\n",
    "    json.dump(file_indexes_dict_list, json_file)"
   ]
  },
  {
   "cell_type": "markdown",
   "metadata": {},
   "source": [
    "Maybe it was not the most elegant solution, but it's fine, at least we have a dataset where we exactly know the input images."
   ]
  },
  {
   "cell_type": "code",
   "execution_count": 33,
   "metadata": {},
   "outputs": [
    {
     "name": "stdout",
     "output_type": "stream",
     "text": [
      "Found 945 files belonging to 4 classes.\n",
      "Using 662 files for training.\n",
      "Found 945 files belonging to 4 classes.\n",
      "Using 283 files for validation.\n"
     ]
    }
   ],
   "source": [
    "SEED=1234 # Using the same seed for both traning and validation datasets\n",
    "img_height, img_width = 512, 512\n",
    "VALIDATION_SPLIT = 0.3\n",
    "BATCH_SIZE = 100\n",
    "\n",
    "train_ds = tf.keras.utils.image_dataset_from_directory(\n",
    "    IMAGE_DIR,\n",
    "    seed=SEED,\n",
    "    image_size=(img_height, img_width),\n",
    "    color_mode='rgb',\n",
    "    labels='inferred',\n",
    "    validation_split=VALIDATION_SPLIT,\n",
    "    subset='training',\n",
    "    batch_size=BATCH_SIZE\n",
    ")\n",
    "\n",
    "validation_ds = tf.keras.utils.image_dataset_from_directory(\n",
    "    IMAGE_DIR,\n",
    "    seed=SEED,\n",
    "    image_size=(img_height, img_width),\n",
    "    color_mode='rgb',\n",
    "    labels='inferred',\n",
    "    validation_split=VALIDATION_SPLIT,\n",
    "    subset='validation',\n",
    "    batch_size=BATCH_SIZE\n",
    ")"
   ]
  },
  {
   "cell_type": "code",
   "execution_count": 34,
   "metadata": {},
   "outputs": [
    {
     "name": "stdout",
     "output_type": "stream",
     "text": [
      "Epoch 1/30\n",
      "7/7 [==============================] - 10s 1s/step - loss: 1.5208 - accuracy: 0.2779 - val_loss: 1.3467 - val_accuracy: 0.2403\n",
      "Epoch 2/30\n",
      "7/7 [==============================] - 9s 1s/step - loss: 1.3177 - accuracy: 0.3535 - val_loss: 1.2567 - val_accuracy: 0.4417\n",
      "Epoch 3/30\n",
      "7/7 [==============================] - 9s 1s/step - loss: 1.2015 - accuracy: 0.4698 - val_loss: 1.0569 - val_accuracy: 0.5194\n",
      "Epoch 4/30\n",
      "7/7 [==============================] - 9s 1s/step - loss: 0.9571 - accuracy: 0.5287 - val_loss: 0.9311 - val_accuracy: 0.4982\n",
      "Epoch 5/30\n",
      "7/7 [==============================] - 8s 1s/step - loss: 0.7817 - accuracy: 0.6284 - val_loss: 0.7747 - val_accuracy: 0.5760\n",
      "Epoch 6/30\n",
      "7/7 [==============================] - 9s 1s/step - loss: 0.7123 - accuracy: 0.6390 - val_loss: 0.7312 - val_accuracy: 0.6219\n",
      "Epoch 7/30\n",
      "7/7 [==============================] - 8s 1s/step - loss: 0.7019 - accuracy: 0.6390 - val_loss: 0.7698 - val_accuracy: 0.5795\n",
      "Epoch 8/30\n",
      "7/7 [==============================] - 8s 1s/step - loss: 0.6276 - accuracy: 0.6994 - val_loss: 0.7016 - val_accuracy: 0.6643\n",
      "Epoch 9/30\n",
      "7/7 [==============================] - 8s 1s/step - loss: 0.5425 - accuracy: 0.7628 - val_loss: 0.5806 - val_accuracy: 0.7314\n",
      "Epoch 10/30\n",
      "7/7 [==============================] - 8s 1s/step - loss: 0.4700 - accuracy: 0.8051 - val_loss: 0.4964 - val_accuracy: 0.7880\n",
      "Epoch 11/30\n",
      "7/7 [==============================] - 9s 1s/step - loss: 0.4054 - accuracy: 0.8353 - val_loss: 0.5375 - val_accuracy: 0.7668\n",
      "Epoch 12/30\n",
      "7/7 [==============================] - 9s 1s/step - loss: 0.3885 - accuracy: 0.8459 - val_loss: 0.5124 - val_accuracy: 0.7668\n",
      "Epoch 13/30\n",
      "7/7 [==============================] - 8s 1s/step - loss: 0.3447 - accuracy: 0.8444 - val_loss: 0.5207 - val_accuracy: 0.7774\n",
      "Epoch 14/30\n",
      "7/7 [==============================] - 8s 1s/step - loss: 0.3441 - accuracy: 0.8595 - val_loss: 0.6098 - val_accuracy: 0.7279\n",
      "Epoch 15/30\n",
      "7/7 [==============================] - 8s 1s/step - loss: 0.3457 - accuracy: 0.8520 - val_loss: 0.4306 - val_accuracy: 0.8198\n",
      "Epoch 16/30\n",
      "7/7 [==============================] - 8s 1s/step - loss: 0.3047 - accuracy: 0.8746 - val_loss: 0.4685 - val_accuracy: 0.7986\n",
      "Epoch 17/30\n",
      "7/7 [==============================] - 8s 1s/step - loss: 0.2409 - accuracy: 0.9154 - val_loss: 0.3831 - val_accuracy: 0.8516\n",
      "Epoch 18/30\n",
      "7/7 [==============================] - 8s 1s/step - loss: 0.1982 - accuracy: 0.9366 - val_loss: 0.3670 - val_accuracy: 0.8551\n",
      "Epoch 19/30\n",
      "7/7 [==============================] - 8s 1s/step - loss: 0.1763 - accuracy: 0.9426 - val_loss: 0.4449 - val_accuracy: 0.8269\n",
      "Epoch 20/30\n",
      "7/7 [==============================] - 8s 1s/step - loss: 0.1895 - accuracy: 0.9260 - val_loss: 0.4598 - val_accuracy: 0.7986\n",
      "Epoch 21/30\n",
      "7/7 [==============================] - 8s 1s/step - loss: 0.1580 - accuracy: 0.9396 - val_loss: 0.4279 - val_accuracy: 0.8163\n",
      "Epoch 22/30\n",
      "7/7 [==============================] - 8s 1s/step - loss: 0.1413 - accuracy: 0.9517 - val_loss: 0.3599 - val_accuracy: 0.8551\n",
      "Epoch 23/30\n",
      "7/7 [==============================] - 9s 1s/step - loss: 0.1094 - accuracy: 0.9637 - val_loss: 0.3632 - val_accuracy: 0.8622\n",
      "Epoch 24/30\n",
      "7/7 [==============================] - 8s 1s/step - loss: 0.0850 - accuracy: 0.9804 - val_loss: 0.4036 - val_accuracy: 0.8551\n",
      "Epoch 25/30\n",
      "7/7 [==============================] - 8s 1s/step - loss: 0.1121 - accuracy: 0.9607 - val_loss: 0.4823 - val_accuracy: 0.8375\n",
      "Epoch 26/30\n",
      "7/7 [==============================] - 8s 1s/step - loss: 0.1022 - accuracy: 0.9637 - val_loss: 0.3803 - val_accuracy: 0.8799\n",
      "Epoch 27/30\n",
      "7/7 [==============================] - 8s 1s/step - loss: 0.0787 - accuracy: 0.9789 - val_loss: 0.4237 - val_accuracy: 0.8516\n",
      "Epoch 28/30\n",
      "7/7 [==============================] - 8s 1s/step - loss: 0.0735 - accuracy: 0.9713 - val_loss: 0.4261 - val_accuracy: 0.8339\n",
      "Epoch 29/30\n",
      "7/7 [==============================] - 8s 1s/step - loss: 0.0645 - accuracy: 0.9819 - val_loss: 0.4302 - val_accuracy: 0.8516\n",
      "Epoch 30/30\n",
      "7/7 [==============================] - 8s 1s/step - loss: 0.0433 - accuracy: 0.9940 - val_loss: 0.4115 - val_accuracy: 0.8551\n"
     ]
    }
   ],
   "source": [
    "EPOCHS = 30\n",
    "\n",
    "model.compile(optimizer=tf.keras.optimizers.Adam(learning_rate=0.001),\n",
    "    loss=tf.keras.losses.SparseCategoricalCrossentropy(),\n",
    "    metrics=['accuracy'],\n",
    "    steps_per_execution=2)\n",
    "\n",
    "\n",
    "history = model.fit(\n",
    "    train_ds,\n",
    "    validation_data=validation_ds,\n",
    "    epochs=EPOCHS\n",
    ")"
   ]
  },
  {
   "cell_type": "code",
   "execution_count": 35,
   "metadata": {},
   "outputs": [
    {
     "data": {
      "image/png": "[encoded data removed]",
      "text/plain": [
       "<Figure size 432x288 with 1 Axes>"
      ]
     },
     "metadata": {
      "needs_background": "light"
     },
     "output_type": "display_data"
    }
   ],
   "source": [
    "history_df = pd.DataFrame.from_dict( history.history )\n",
    "history_df.plot()\n",
    "plt.xlabel(\"Epoch\")\n",
    "plt.legend(loc='lower left')\n",
    "plt.show()"
   ]
  },
  {
   "cell_type": "code",
   "execution_count": 36,
   "metadata": {},
   "outputs": [
    {
     "name": "stderr",
     "output_type": "stream",
     "text": [
      "2022-05-22 11:40:27.002292: W tensorflow/python/util/util.cc:368] Sets are not currently considered sequences, but this may change in the future, so consider avoiding using them.\n"
     ]
    },
    {
     "name": "stdout",
     "output_type": "stream",
     "text": [
      "INFO:tensorflow:Assets written to: Models/Wear_Model_01/assets\n"
     ]
    }
   ],
   "source": [
    "## Save the model\n",
    "!mkdir -p Models\n",
    "model.save(\"Models/Wear_Model_01\")"
   ]
  },
  {
   "cell_type": "markdown",
   "metadata": {},
   "source": [
    "Let's test the model on a different dataset.\n",
    "Create test images folder."
   ]
  },
  {
   "cell_type": "code",
   "execution_count": 26,
   "metadata": {},
   "outputs": [
    {
     "name": "stdout",
     "output_type": "stream",
     "text": [
      "Saving image: c_1_065.csv\n",
      "------------ 0/94\n",
      "Saving image: c_1_136.csv\n",
      "------------ 23/94\n",
      "Saving image: c_1_227.csv\n",
      "------------ 46/94\n",
      "Saving image: c_1_106.csv\n",
      "------------ 69/94\n",
      "Saving image: c_1_252.csv\n",
      "------------ 92/94\n",
      "Finished.\n"
     ]
    }
   ],
   "source": [
    "test_indexes = populate_images(CSV_DIR, TEST_DIR, num_slices=3, proportion=0.3)"
   ]
  },
  {
   "cell_type": "markdown",
   "metadata": {},
   "source": [
    "Once again, save the dictionary."
   ]
  },
  {
   "cell_type": "code",
   "execution_count": 29,
   "metadata": {},
   "outputs": [],
   "source": [
    "test_indexes_list = {k: [int(x) for x in list(v)] for k, v in test_indexes.items()}\n",
    "with open(\"Test_images.json\", \"w\") as json_file:\n",
    "    json.dump(test_indexes_list, json_file)"
   ]
  },
  {
   "cell_type": "markdown",
   "metadata": {},
   "source": [
    "Predict model on the test images."
   ]
  },
  {
   "cell_type": "code",
   "execution_count": 142,
   "metadata": {},
   "outputs": [
    {
     "name": "stdout",
     "output_type": "stream",
     "text": [
      "Found 282 files belonging to 4 classes.\n"
     ]
    }
   ],
   "source": [
    "cnn_model = tf.keras.models.load_model(\"Models/Wear_Model_01\")\n",
    "\n",
    "test_ds = tf.keras.utils.image_dataset_from_directory(\n",
    "    TEST_DIR,\n",
    "    seed=SEED,\n",
    "    image_size=(img_height, img_width),\n",
    "    color_mode='rgb',\n",
    "    labels='inferred'\n",
    ")\n",
    "\n",
    "cnn_eval = cnn_model.predict(test_ds)\n",
    "labels_true =  np.concatenate([y for _, y in test_ds], axis=0)\n",
    "labels_predicted = np.argmax(cnn_eval, axis=1, out=np.zeros(len(cnn_eval), dtype=np.int32))"
   ]
  },
  {
   "cell_type": "markdown",
   "metadata": {},
   "source": [
    "We will create the confusion matrix to evaluate the predictions."
   ]
  },
  {
   "cell_type": "code",
   "execution_count": 143,
   "metadata": {},
   "outputs": [],
   "source": [
    "confusion_matrix = tf.math.confusion_matrix(\n",
    "    labels=labels_true,\n",
    "    predictions=labels_predicted)\n",
    "\n",
    "# Columns are prediction labels, rows are real labels.\n",
    "confusion_df = pd.DataFrame(np.asarray(confusion_matrix), columns=test_ds.class_names)\n",
    "confusion_df.index = test_ds.class_names\n"
   ]
  },
  {
   "cell_type": "code",
   "execution_count": 144,
   "metadata": {},
   "outputs": [
    {
     "data": {
      "text/html": [
       "<div>\n",
       "<style scoped>\n",
       "    .dataframe tbody tr th:only-of-type {\n",
       "        vertical-align: middle;\n",
       "    }\n",
       "\n",
       "    .dataframe tbody tr th {\n",
       "        vertical-align: top;\n",
       "    }\n",
       "\n",
       "    .dataframe thead th {\n",
       "        text-align: right;\n",
       "    }\n",
       "</style>\n",
       "<table border=\"1\" class=\"dataframe\">\n",
       "  <thead>\n",
       "    <tr style=\"text-align: right;\">\n",
       "      <th></th>\n",
       "      <th>Break_in</th>\n",
       "      <th>Failure</th>\n",
       "      <th>Severe</th>\n",
       "      <th>Steady_state</th>\n",
       "    </tr>\n",
       "  </thead>\n",
       "  <tbody>\n",
       "    <tr>\n",
       "      <th>Break_in</th>\n",
       "      <td>3</td>\n",
       "      <td>6</td>\n",
       "      <td>9</td>\n",
       "      <td>18</td>\n",
       "    </tr>\n",
       "    <tr>\n",
       "      <th>Failure</th>\n",
       "      <td>10</td>\n",
       "      <td>10</td>\n",
       "      <td>12</td>\n",
       "      <td>25</td>\n",
       "    </tr>\n",
       "    <tr>\n",
       "      <th>Severe</th>\n",
       "      <td>7</td>\n",
       "      <td>11</td>\n",
       "      <td>18</td>\n",
       "      <td>30</td>\n",
       "    </tr>\n",
       "    <tr>\n",
       "      <th>Steady_state</th>\n",
       "      <td>15</td>\n",
       "      <td>30</td>\n",
       "      <td>19</td>\n",
       "      <td>59</td>\n",
       "    </tr>\n",
       "  </tbody>\n",
       "</table>\n",
       "</div>"
      ],
      "text/plain": [
       "              Break_in  Failure  Severe  Steady_state\n",
       "Break_in             3        6       9            18\n",
       "Failure             10       10      12            25\n",
       "Severe               7       11      18            30\n",
       "Steady_state        15       30      19            59"
      ]
     },
     "metadata": {},
     "output_type": "display_data"
    }
   ],
   "source": [
    "display(confusion_df)"
   ]
  },
  {
   "cell_type": "code",
   "execution_count": 145,
   "metadata": {},
   "outputs": [
    {
     "data": {
      "image/png": "[encoded data removed]",
      "text/plain": [
       "<Figure size 432x288 with 2 Axes>"
      ]
     },
     "metadata": {
      "needs_background": "light"
     },
     "output_type": "display_data"
    }
   ],
   "source": [
    "plt.figure(figsize=(6,4))\n",
    "sn.heatmap(confusion_df)\n",
    "plt.show()"
   ]
  }
 ],
 "metadata": {
  "interpreter": {
   "hash": "1ee38ef4a5a9feb55287fd749643f13d043cb0a7addaab2a9c224cbe137c0062"
  },
  "kernelspec": {
   "display_name": "Python 3.8.5 64-bit",
   "language": "python",
   "name": "python3"
  },
  "language_info": {
   "codemirror_mode": {
    "name": "ipython",
    "version": 3
   },
   "file_extension": ".py",
   "mimetype": "text/x-python",
   "name": "python",
   "nbconvert_exporter": "python",
   "pygments_lexer": "ipython3",
   "version": "3.8.13"
  },
  "orig_nbformat": 4
 },
 "nbformat": 4,
 "nbformat_minor": 2
}
